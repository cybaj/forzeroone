{
 "cells": [
  {
   "cell_type": "code",
   "execution_count": 1,
   "metadata": {},
   "outputs": [
    {
     "name": "stdout",
     "output_type": "stream",
     "text": [
      "Sat Jun 12 10:10:14 2021       \n",
      "+-----------------------------------------------------------------------------+\n",
      "| NVIDIA-SMI 450.102.04   Driver Version: 450.102.04   CUDA Version: 11.0     |\n",
      "|-------------------------------+----------------------+----------------------+\n",
      "| GPU  Name        Persistence-M| Bus-Id        Disp.A | Volatile Uncorr. ECC |\n",
      "| Fan  Temp  Perf  Pwr:Usage/Cap|         Memory-Usage | GPU-Util  Compute M. |\n",
      "|                               |                      |               MIG M. |\n",
      "|===============================+======================+======================|\n",
      "|   0  GeForce GTX 108...  Off  | 00000000:5E:00.0 Off |                  N/A |\n",
      "| 34%   54C    P8    11W / 250W |     11MiB / 11178MiB |      0%      Default |\n",
      "|                               |                      |                  N/A |\n",
      "+-------------------------------+----------------------+----------------------+\n",
      "|   1  GeForce GTX 108...  Off  | 00000000:D8:00.0 Off |                  N/A |\n",
      "|  0%   39C    P8    12W / 250W |    311MiB / 11177MiB |      0%      Default |\n",
      "|                               |                      |                  N/A |\n",
      "+-------------------------------+----------------------+----------------------+\n",
      "                                                                               \n",
      "+-----------------------------------------------------------------------------+\n",
      "| Processes:                                                                  |\n",
      "|  GPU   GI   CI        PID   Type   Process name                  GPU Memory |\n",
      "|        ID   ID                                                   Usage      |\n",
      "|=============================================================================|\n",
      "+-----------------------------------------------------------------------------+\n"
     ]
    }
   ],
   "source": [
    "!nvidia-smi"
   ]
  },
  {
   "cell_type": "code",
   "execution_count": 2,
   "metadata": {},
   "outputs": [],
   "source": [
    "import tensorflow as tf"
   ]
  },
  {
   "cell_type": "code",
   "execution_count": 3,
   "metadata": {},
   "outputs": [],
   "source": [
    "import glob\n",
    "import imageio\n",
    "import matplotlib.pyplot as plt\n",
    "import numpy as np\n",
    "import os\n",
    "import PIL\n",
    "from tensorflow.keras import layers\n",
    "import time\n",
    "\n",
    "from IPython import display"
   ]
  },
  {
   "cell_type": "code",
   "execution_count": 4,
   "metadata": {},
   "outputs": [],
   "source": [
    "from dataset import DataGenerator"
   ]
  },
  {
   "cell_type": "code",
   "execution_count": 5,
   "metadata": {
    "scrolled": true
   },
   "outputs": [
    {
     "name": "stdout",
     "output_type": "stream",
     "text": [
      "[image loader] log_path : /tf/painter/data/_log/2021-06-12-10-10-16\n",
      "start /tf/painter/data/preprocessed_kaggle/train\n",
      "finish\n",
      "start /tf/painter/data/preprocessed_kaggle/test\n",
      "finish\n",
      "[image loader] log_path : /tf/painter/data/_log/2021-06-12-10-10-18\n",
      "start /tf/painter/data/wikiart/Naive_Art_Primitivism\n",
      "finish\n",
      "start /tf/painter/data/wikiart/High_Renaissance\n",
      "finish\n",
      "start /tf/painter/data/wikiart/Rococo\n",
      "finish\n",
      "start /tf/painter/data/wikiart/Impressionism\n",
      "finish\n",
      "start /tf/painter/data/wikiart/Ukiyo_e\n",
      "finish\n",
      "start /tf/painter/data/wikiart/Pop_Art\n",
      "finish\n",
      "start /tf/painter/data/wikiart/Cubism\n",
      "finish\n",
      "start /tf/painter/data/wikiart/Fauvism\n",
      "finish\n",
      "start /tf/painter/data/wikiart/Expressionism\n",
      "finish\n",
      "start /tf/painter/data/wikiart/Pointillism\n",
      "finish\n",
      "start /tf/painter/data/wikiart/Minimalism\n",
      "finish\n",
      "start /tf/painter/data/wikiart/Synthetic_Cubism\n",
      "finish\n",
      "start /tf/painter/data/wikiart/Post_Impressionism\n",
      "finish\n",
      "start /tf/painter/data/wikiart/Northern_Renaissance\n",
      "finish\n",
      "start /tf/painter/data/wikiart/Baroque\n",
      "finish\n",
      "start /tf/painter/data/wikiart/New_Realism\n",
      "finish\n",
      "start /tf/painter/data/wikiart/Analytical_Cubism\n",
      "finish\n",
      "start /tf/painter/data/wikiart/Abstract_Expressionism\n",
      "finish\n",
      "start /tf/painter/data/wikiart/Realism\n",
      "finish\n",
      "start /tf/painter/data/wikiart/Symbolism\n",
      "finish\n",
      "start /tf/painter/data/wikiart/Contemporary_Realism\n",
      "finish\n",
      "start /tf/painter/data/wikiart/Romanticism\n",
      "finish\n",
      "start /tf/painter/data/wikiart/Early_Renaissance\n",
      "finish\n",
      "start /tf/painter/data/wikiart/Art_Nouveau_Modern\n",
      "finish\n",
      "start /tf/painter/data/wikiart/Color_Field_Painting\n",
      "finish\n",
      "start /tf/painter/data/wikiart/Mannerism_Late_Renaissance\n",
      "finish\n",
      "start /tf/painter/data/wikiart/Action_painting\n",
      "finish\n",
      "dataset length : 184695\n"
     ]
    }
   ],
   "source": [
    "datagen = DataGenerator().gen_batch\n",
    "dataset = tf.data.Dataset.from_generator(\n",
    "     datagen,\n",
    "     output_signature=(\n",
    "         tf.TensorSpec(shape=(None, 256, 256, 3), dtype=tf.float64),\n",
    "         tf.TensorSpec(shape=(None, 256, 256, 3), dtype=tf.float64)))"
   ]
  },
  {
   "cell_type": "code",
   "execution_count": 6,
   "metadata": {},
   "outputs": [],
   "source": [
    "train_dataset = dataset.batch(5)"
   ]
  },
  {
   "cell_type": "code",
   "execution_count": 7,
   "metadata": {},
   "outputs": [
    {
     "data": {
      "text/plain": [
       "<BatchDataset shapes: ((None, None, 256, 256, 3), (None, None, 256, 256, 3)), types: (tf.float64, tf.float64)>"
      ]
     },
     "execution_count": 7,
     "metadata": {},
     "output_type": "execute_result"
    }
   ],
   "source": [
    "train_dataset"
   ]
  },
  {
   "cell_type": "code",
   "execution_count": 8,
   "metadata": {
    "scrolled": true
   },
   "outputs": [
    {
     "name": "stdout",
     "output_type": "stream",
     "text": [
      "[image loader] log_path : /tf/painter/data/_log/2021-06-12-10-10-21\n",
      "start /tf/painter/data/preprocessed_kaggle/train\n",
      "finish\n",
      "start /tf/painter/data/preprocessed_kaggle/test\n",
      "finish\n",
      "[image loader] log_path : /tf/painter/data/_log/2021-06-12-10-10-22\n",
      "start /tf/painter/data/wikiart/Naive_Art_Primitivism\n",
      "finish\n",
      "start /tf/painter/data/wikiart/High_Renaissance\n",
      "finish\n",
      "start /tf/painter/data/wikiart/Rococo\n",
      "finish\n",
      "start /tf/painter/data/wikiart/Impressionism\n",
      "finish\n",
      "start /tf/painter/data/wikiart/Ukiyo_e\n",
      "finish\n",
      "start /tf/painter/data/wikiart/Pop_Art\n",
      "finish\n",
      "start /tf/painter/data/wikiart/Cubism\n",
      "finish\n",
      "start /tf/painter/data/wikiart/Fauvism\n",
      "finish\n",
      "start /tf/painter/data/wikiart/Expressionism\n",
      "finish\n",
      "start /tf/painter/data/wikiart/Pointillism\n",
      "finish\n",
      "start /tf/painter/data/wikiart/Minimalism\n",
      "finish\n",
      "start /tf/painter/data/wikiart/Synthetic_Cubism\n",
      "finish\n",
      "start /tf/painter/data/wikiart/Post_Impressionism\n",
      "finish\n",
      "start /tf/painter/data/wikiart/Northern_Renaissance\n",
      "finish\n",
      "start /tf/painter/data/wikiart/Baroque\n",
      "finish\n",
      "start /tf/painter/data/wikiart/New_Realism\n",
      "finish\n",
      "start /tf/painter/data/wikiart/Analytical_Cubism\n",
      "finish\n",
      "start /tf/painter/data/wikiart/Abstract_Expressionism\n",
      "finish\n",
      "start /tf/painter/data/wikiart/Realism\n",
      "finish\n",
      "start /tf/painter/data/wikiart/Symbolism\n",
      "finish\n",
      "start /tf/painter/data/wikiart/Contemporary_Realism\n",
      "finish\n",
      "start /tf/painter/data/wikiart/Romanticism\n",
      "finish\n",
      "start /tf/painter/data/wikiart/Early_Renaissance\n",
      "finish\n",
      "start /tf/painter/data/wikiart/Art_Nouveau_Modern\n",
      "finish\n",
      "start /tf/painter/data/wikiart/Color_Field_Painting\n",
      "finish\n",
      "start /tf/painter/data/wikiart/Mannerism_Late_Renaissance\n",
      "finish\n",
      "start /tf/painter/data/wikiart/Action_painting\n",
      "finish\n",
      "dataset length : 184695\n"
     ]
    }
   ],
   "source": [
    "datagen = DataGenerator().gen_sample\n",
    "dataset = tf.data.Dataset.from_generator(\n",
    "     datagen,\n",
    "     output_signature=(\n",
    "         tf.TensorSpec(shape=(256, 256, 3), dtype=tf.float64),\n",
    "         tf.TensorSpec(shape=(256, 256, 3), dtype=tf.float64)))"
   ]
  },
  {
   "cell_type": "code",
   "execution_count": 9,
   "metadata": {},
   "outputs": [],
   "source": [
    "BATCH_SIZE = 4\n",
    "first_gen_map_width, first_gen_map_height = (4, 4)\n",
    "first_gen_map_ratio = 32\n",
    "first_gen_channel = 32"
   ]
  },
  {
   "cell_type": "code",
   "execution_count": 10,
   "metadata": {},
   "outputs": [],
   "source": [
    "train_dataset = dataset.batch(BATCH_SIZE)"
   ]
  },
  {
   "cell_type": "code",
   "execution_count": 11,
   "metadata": {},
   "outputs": [
    {
     "data": {
      "text/plain": [
       "<BatchDataset shapes: ((None, 256, 256, 3), (None, 256, 256, 3)), types: (tf.float64, tf.float64)>"
      ]
     },
     "execution_count": 11,
     "metadata": {},
     "output_type": "execute_result"
    }
   ],
   "source": [
    "train_dataset"
   ]
  },
  {
   "cell_type": "code",
   "execution_count": 12,
   "metadata": {},
   "outputs": [],
   "source": [
    "def make_generator_model():\n",
    "    model = tf.keras.Sequential()\n",
    "    model.add(layers.Dense(first_gen_channel * first_gen_map_width * first_gen_map_height * first_gen_map_ratio, use_bias=False, input_shape=(100,)))\n",
    "    model.add(layers.BatchNormalization())\n",
    "    model.add(layers.LeakyReLU())\n",
    "\n",
    "    model.add(layers.Reshape((first_gen_map_width, first_gen_map_height, first_gen_channel * first_gen_map_ratio)))\n",
    "    print(model.output_shape)\n",
    "    assert model.output_shape == (None, first_gen_map_width, first_gen_map_height, first_gen_channel * first_gen_map_ratio) # 주목: 배치사이즈로 None이 주어집니다.\n",
    "\n",
    "    model.add(layers.Conv2DTranspose(first_gen_channel * first_gen_map_ratio / 2, (5, 5), strides=(2, 2), padding='same', use_bias=False))\n",
    "    assert model.output_shape == (None, first_gen_map_width * 2, first_gen_map_height * 2, first_gen_channel * first_gen_map_ratio / 2)\n",
    "    model.add(layers.BatchNormalization())\n",
    "    model.add(layers.LeakyReLU())\n",
    "\n",
    "    model.add(layers.Conv2DTranspose(first_gen_channel * first_gen_map_ratio / 4, (5, 5), strides=(2, 2), padding='same', use_bias=False))\n",
    "    assert model.output_shape == (None, first_gen_map_width * 4, first_gen_map_height * 4, first_gen_channel * first_gen_map_ratio / 4)\n",
    "    model.add(layers.BatchNormalization())\n",
    "    model.add(layers.LeakyReLU())\n",
    "\n",
    "    model.add(layers.Conv2DTranspose(first_gen_channel * first_gen_map_ratio / 8, (5, 5), strides=(2, 2), padding='same', use_bias=False))\n",
    "    assert model.output_shape == (None, first_gen_map_width * 8, first_gen_map_height * 8, first_gen_channel * first_gen_map_ratio / 8)\n",
    "    model.add(layers.BatchNormalization())\n",
    "    model.add(layers.LeakyReLU())\n",
    "\n",
    "    model.add(layers.Conv2DTranspose(first_gen_channel * first_gen_map_ratio / 16, (5, 5), strides=(2, 2), padding='same', use_bias=False))\n",
    "    assert model.output_shape == (None, first_gen_map_width * 16, first_gen_map_height * 16, first_gen_channel * first_gen_map_ratio / 16)\n",
    "    model.add(layers.BatchNormalization())\n",
    "    model.add(layers.LeakyReLU())\n",
    "\n",
    "    model.add(layers.Conv2DTranspose(first_gen_channel * first_gen_map_ratio / 32, (5, 5), strides=(2, 2), padding='same', use_bias=False))\n",
    "    assert model.output_shape == (None, first_gen_map_width * 32, first_gen_map_height * 32, first_gen_channel * first_gen_map_ratio / 32)\n",
    "    model.add(layers.BatchNormalization())\n",
    "    model.add(layers.LeakyReLU())\n",
    "    \n",
    "    model.add(layers.Conv2DTranspose(3, (5, 5), strides=(2, 2), padding='same', use_bias=False, activation='tanh'))\n",
    "    assert model.output_shape == (None, first_gen_map_width * 64, first_gen_map_height * 64, 3)\n",
    "\n",
    "    return model"
   ]
  },
  {
   "cell_type": "code",
   "execution_count": 13,
   "metadata": {},
   "outputs": [
    {
     "name": "stdout",
     "output_type": "stream",
     "text": [
      "(None, 4, 4, 1024)\n"
     ]
    },
    {
     "data": {
      "text/plain": [
       "<matplotlib.image.AxesImage at 0x7f90047bef98>"
      ]
     },
     "execution_count": 13,
     "metadata": {},
     "output_type": "execute_result"
    },
    {
     "data": {
      "image/png": "[encoded data removed]",
      "text/plain": [
       "<Figure size 432x288 with 1 Axes>"
      ]
     },
     "metadata": {
      "needs_background": "light"
     },
     "output_type": "display_data"
    }
   ],
   "source": [
    "generator = make_generator_model()\n",
    "\n",
    "noise = tf.random.normal([1, 100])\n",
    "generated_image = generator(noise, training=False)\n",
    "\n",
    "plt.imshow(generated_image[0, :, :, 0])\n"
   ]
  },
  {
   "cell_type": "code",
   "execution_count": 14,
   "metadata": {},
   "outputs": [],
   "source": [
    "def make_discriminator_model():\n",
    "    model = tf.keras.Sequential()\n",
    "    model.add(layers.Conv2D(first_gen_channel / 2, (5, 5), strides=(2, 2), padding='same',\n",
    "                                     input_shape=[256, 256, 3]))\n",
    "    model.add(layers.LeakyReLU())\n",
    "    model.add(layers.Dropout(0.3))\n",
    "\n",
    "    model.add(layers.Conv2D(first_gen_channel, (5, 5), strides=(2, 2), padding='same'))\n",
    "    model.add(layers.LeakyReLU())\n",
    "    model.add(layers.Dropout(0.3))\n",
    "    \n",
    "    model.add(layers.Conv2D(first_gen_channel * 2, (5, 5), strides=(2, 2), padding='same'))\n",
    "    model.add(layers.LeakyReLU())\n",
    "    model.add(layers.Dropout(0.3))\n",
    "\n",
    "    model.add(layers.Conv2D(first_gen_channel * 4, (5, 5), strides=(2, 2), padding='same'))\n",
    "    model.add(layers.LeakyReLU())\n",
    "    model.add(layers.Dropout(0.3))\n",
    "    \n",
    "    model.add(layers.Conv2D(first_gen_channel * 8, (5, 5), strides=(2, 2), padding='same'))\n",
    "    model.add(layers.LeakyReLU())\n",
    "    model.add(layers.Dropout(0.3))\n",
    "    \n",
    "    model.add(layers.Conv2D(first_gen_channel * 16, (5, 5), strides=(2, 2), padding='same'))\n",
    "    model.add(layers.LeakyReLU())\n",
    "    model.add(layers.Dropout(0.3))\n",
    "    \n",
    "    model.add(layers.Flatten())\n",
    "    model.add(layers.Dense(1))\n",
    "\n",
    "    return model\n"
   ]
  },
  {
   "cell_type": "code",
   "execution_count": 15,
   "metadata": {},
   "outputs": [
    {
     "name": "stdout",
     "output_type": "stream",
     "text": [
      "tf.Tensor([[-1.0426513e-05]], shape=(1, 1), dtype=float32)\n"
     ]
    }
   ],
   "source": [
    "discriminator = make_discriminator_model()\n",
    "decision = discriminator(generated_image)\n",
    "print (decision)"
   ]
  },
  {
   "cell_type": "code",
   "execution_count": 16,
   "metadata": {},
   "outputs": [],
   "source": [
    "cross_entropy = tf.keras.losses.BinaryCrossentropy(from_logits=True)"
   ]
  },
  {
   "cell_type": "code",
   "execution_count": 17,
   "metadata": {},
   "outputs": [],
   "source": [
    "def discriminator_loss(real_output, fake_output):\n",
    "    real_loss = cross_entropy(tf.ones_like(real_output), real_output)\n",
    "    fake_loss = cross_entropy(tf.zeros_like(fake_output), fake_output)\n",
    "    total_loss = real_loss + fake_loss\n",
    "    return total_loss\n"
   ]
  },
  {
   "cell_type": "code",
   "execution_count": 18,
   "metadata": {},
   "outputs": [],
   "source": [
    "def generator_loss(fake_output):\n",
    "    return cross_entropy(tf.ones_like(fake_output), fake_output)\n"
   ]
  },
  {
   "cell_type": "code",
   "execution_count": 19,
   "metadata": {},
   "outputs": [],
   "source": [
    "generator_optimizer = tf.keras.optimizers.Adam(1e-4)\n",
    "discriminator_optimizer = tf.keras.optimizers.Adam(1e-4)\n"
   ]
  },
  {
   "cell_type": "code",
   "execution_count": 20,
   "metadata": {},
   "outputs": [],
   "source": [
    "checkpoint_dir = './training_checkpoints'\n",
    "checkpoint_prefix = os.path.join(checkpoint_dir, \"ckpt\")\n",
    "checkpoint = tf.train.Checkpoint(generator_optimizer=generator_optimizer,\n",
    "                                 discriminator_optimizer=discriminator_optimizer,\n",
    "                                 generator=generator,\n",
    "                                 discriminator=discriminator)\n"
   ]
  },
  {
   "cell_type": "code",
   "execution_count": 21,
   "metadata": {},
   "outputs": [],
   "source": [
    "writer = tf.summary.create_file_writer(\"./mylogs\")"
   ]
  },
  {
   "cell_type": "code",
   "execution_count": 22,
   "metadata": {},
   "outputs": [],
   "source": [
    "EPOCHS = 50\n",
    "noise_dim = 100\n",
    "num_examples_to_generate = 16\n",
    "\n",
    "# 이 시드를 시간이 지나도 재활용하겠습니다. \n",
    "# (GIF 애니메이션에서 진전 내용을 시각화하는데 쉽기 때문입니다.) \n",
    "seed = tf.random.normal([num_examples_to_generate, noise_dim])\n"
   ]
  },
  {
   "cell_type": "code",
   "execution_count": 24,
   "metadata": {},
   "outputs": [],
   "source": [
    "# `tf.function`이 어떻게 사용되는지 주목해 주세요.\n",
    "# 이 데코레이터는 함수를 \"컴파일\"합니다.\n",
    "@tf.function(input_signature=(tf.TensorSpec(shape=[], dtype=tf.int64),tf.TensorSpec(shape=[None, 256,256,3], dtype=tf.float64)))\n",
    "def train_step(step, images):\n",
    "    noise = tf.random.normal([BATCH_SIZE, noise_dim])\n",
    "    with writer.as_default():\n",
    "        with tf.GradientTape() as gen_tape, tf.GradientTape() as disc_tape:\n",
    "          generated_images = generator(noise, training=True)\n",
    "\n",
    "          real_output = discriminator(images, training=True)\n",
    "          fake_output = discriminator(generated_images, training=True)\n",
    "\n",
    "          gen_loss = generator_loss(fake_output)\n",
    "          disc_loss = discriminator_loss(real_output, fake_output)\n",
    "\n",
    "          if tf.math.floormod(step, tf.constant(100, dtype=tf.int64)) == tf.constant(0, dtype=tf.int64):\n",
    "#               tf.print(f'summaries {step}')\n",
    "\n",
    "              tf.summary.scalar(\"train_gen_loss\", gen_loss, step=step)\n",
    "              tf.summary.scalar(\"train_disc_loss\", disc_loss, step=step)\n",
    "              tf.summary.image(\"train_gen_images\", generated_images, step=step)\n",
    "              writer_flush = writer.flush()\n",
    "        \n",
    "    gradients_of_generator = gen_tape.gradient(gen_loss, generator.trainable_variables)\n",
    "    gradients_of_discriminator = disc_tape.gradient(disc_loss, discriminator.trainable_variables)\n",
    "\n",
    "    generator_optimizer.apply_gradients(zip(gradients_of_generator, generator.trainable_variables))\n",
    "    discriminator_optimizer.apply_gradients(zip(gradients_of_discriminator, discriminator.trainable_variables))\n"
   ]
  },
  {
   "cell_type": "code",
   "execution_count": 25,
   "metadata": {},
   "outputs": [],
   "source": [
    "def generate_and_save_images(model, epoch, test_input):\n",
    "  # `training`이 False로 맞춰진 것을 주목하세요.\n",
    "  # 이렇게 하면 (배치정규화를 포함하여) 모든 층들이 추론 모드로 실행됩니다. \n",
    "  predictions = model(test_input, training=False)\n",
    "\n",
    "  fig = plt.figure(figsize=(4,4))\n",
    "\n",
    "  for i in range(predictions.shape[0]):\n",
    "      plt.subplot(4, 4, i+1)\n",
    "      plt.imshow(predictions[i, :, :, 0] * 127.5 + 127.5, cmap='gray')\n",
    "      plt.axis('off')\n",
    "\n",
    "  plt.savefig('image_at_epoch_{:04d}.png'.format(epoch))\n",
    "  plt.show()"
   ]
  },
  {
   "cell_type": "code",
   "execution_count": 26,
   "metadata": {},
   "outputs": [],
   "source": [
    "def train(dataset, epochs):\n",
    "  for epoch in range(epochs):\n",
    "    start = time.time()\n",
    "    step = tf.constant(0, dtype=tf.int64)\n",
    "\n",
    "    for idx, image_batch in enumerate(dataset):\n",
    "      if idx % 100 is 0 : print(f'Run step {idx}')\n",
    "      # image_batch[1] : choose zero to positive 1 range float64 image\n",
    "      train_step(tf.constant(idx, dtype=tf.int64), image_batch[1])\n",
    "\n",
    "    # GIF를 위한 이미지를 바로 생성합니다.\n",
    "    display.clear_output(wait=True)\n",
    "    generate_and_save_images(generator,\n",
    "                             epoch + 1,\n",
    "                             seed)\n",
    "\n",
    "    # 15 에포크가 지날 때마다 모델을 저장합니다.\n",
    "    if (epoch + 1) % 15 == 0:\n",
    "      checkpoint.save(file_prefix = checkpoint_prefix)\n",
    "\n",
    "    # print (' 에포크 {} 에서 걸린 시간은 {} 초 입니다'.format(epoch +1, time.time()-start))\n",
    "    print ('Time for epoch {} is {} sec'.format(epoch + 1, time.time()-start))\n",
    "\n",
    "  # 마지막 에포크가 끝난 후 생성합니다.\n",
    "  display.clear_output(wait=True)\n",
    "  generate_and_save_images(generator,\n",
    "                           epochs,\n",
    "                           seed)\n"
   ]
  },
  {
   "cell_type": "code",
   "execution_count": null,
   "metadata": {
    "scrolled": true
   },
   "outputs": [
    {
     "name": "stdout",
     "output_type": "stream",
     "text": [
      "Run step 0\n",
      "WARNING:tensorflow:From /usr/local/lib/python3.6/dist-packages/tensorflow/python/util/deprecation.py:605: calling map_fn_v2 (from tensorflow.python.ops.map_fn) with dtype is deprecated and will be removed in a future version.\n",
      "Instructions for updating:\n",
      "Use fn_output_signature instead\n",
      "Run step 100\n",
      "Run step 200\n",
      "Run step 300\n",
      "Run step 400\n",
      "Run step 500\n",
      "Run step 600\n",
      "Run step 700\n",
      "Run step 800\n",
      "Run step 900\n",
      "Run step 1000\n",
      "Run step 1100\n",
      "Run step 1200\n",
      "Run step 1300\n",
      "Run step 1400\n",
      "Run step 1500\n",
      "Run step 1600\n",
      "Run step 1700\n",
      "Run step 1800\n",
      "Run step 1900\n",
      "Run step 2000\n",
      "Run step 2100\n",
      "Run step 2200\n",
      "Run step 2300\n",
      "Run step 2400\n",
      "Run step 2500\n",
      "Run step 2600\n",
      "Run step 2700\n",
      "Run step 2800\n",
      "Run step 2900\n",
      "Run step 3000\n",
      "Run step 3100\n",
      "Run step 3200\n",
      "Run step 3300\n",
      "Run step 3400\n",
      "Run step 3500\n",
      "Run step 3600\n",
      "Run step 3700\n",
      "Run step 3800\n",
      "Run step 3900\n",
      "Run step 4000\n",
      "Run step 4100\n",
      "Run step 4200\n",
      "Run step 4300\n",
      "Run step 4400\n",
      "Run step 4500\n",
      "Run step 4600\n",
      "Run step 4700\n",
      "Run step 4800\n",
      "Run step 4900\n",
      "Run step 5000\n",
      "Run step 5100\n",
      "Run step 5200\n",
      "Run step 5300\n",
      "Run step 5400\n",
      "Run step 5500\n",
      "Run step 5600\n",
      "Run step 5700\n",
      "Run step 5800\n",
      "Run step 5900\n",
      "Run step 6000\n",
      "Run step 6100\n",
      "Run step 6200\n",
      "Run step 6300\n",
      "Run step 6400\n",
      "Run step 6500\n",
      "Run step 6600\n",
      "Run step 6700\n",
      "Run step 6800\n",
      "Run step 6900\n",
      "Run step 7000\n",
      "Run step 7100\n",
      "Run step 7200\n",
      "Run step 7300\n",
      "Run step 7400\n",
      "Run step 7500\n",
      "Run step 7600\n",
      "Run step 7700\n",
      "Run step 7800\n",
      "Run step 7900\n",
      "Run step 8000\n",
      "Run step 8100\n",
      "Run step 8200\n",
      "Run step 8300\n",
      "Run step 8400\n",
      "Run step 8500\n",
      "Run step 8600\n",
      "Run step 8700\n",
      "Run step 8800\n",
      "Run step 8900\n",
      "Run step 9000\n",
      "Run step 9100\n",
      "Run step 9200\n",
      "Run step 9300\n",
      "Run step 9400\n",
      "Run step 9500\n",
      "Run step 9600\n",
      "Run step 9700\n",
      "Run step 9800\n",
      "Run step 9900\n",
      "Run step 10000\n",
      "Run step 10100\n",
      "Run step 10200\n",
      "Run step 10300\n",
      "Run step 10400\n",
      "Run step 10500\n",
      "Run step 10600\n",
      "Run step 10700\n",
      "Run step 10800\n",
      "Run step 10900\n",
      "Run step 11000\n",
      "Run step 11100\n",
      "Run step 11200\n",
      "Run step 11300\n",
      "Run step 11400\n",
      "Run step 11500\n",
      "Run step 11600\n",
      "Run step 11700\n",
      "Run step 11800\n",
      "Run step 11900\n",
      "Run step 12000\n",
      "Run step 12100\n",
      "Run step 12200\n",
      "Run step 12300\n",
      "Run step 12400\n",
      "Run step 12500\n",
      "Run step 12600\n",
      "Run step 12700\n",
      "Run step 12800\n",
      "Run step 12900\n",
      "Run step 13000\n",
      "Run step 13100\n",
      "Run step 13200\n",
      "Run step 13300\n",
      "Run step 13400\n",
      "Run step 13500\n",
      "Run step 13600\n",
      "Run step 13700\n",
      "Run step 13800\n",
      "Run step 13900\n",
      "Run step 14000\n",
      "Run step 14100\n",
      "Run step 14200\n",
      "Run step 14300\n",
      "Run step 14400\n",
      "Run step 14500\n",
      "Run step 14600\n",
      "Run step 14700\n",
      "Run step 14800\n",
      "Run step 14900\n",
      "Run step 15000\n",
      "Run step 15100\n"
     ]
    }
   ],
   "source": [
    "%%time\n",
    "train(train_dataset, EPOCHS)\n"
   ]
  },
  {
   "cell_type": "code",
   "execution_count": null,
   "metadata": {
    "scrolled": true
   },
   "outputs": [],
   "source": [
    "!nvidia-smi"
   ]
  }
 ],
 "metadata": {
  "kernelspec": {
   "display_name": "Python 3",
   "language": "python",
   "name": "python3"
  },
  "language_info": {
   "codemirror_mode": {
    "name": "ipython",
    "version": 3
   },
   "file_extension": ".py",
   "mimetype": "text/x-python",
   "name": "python",
   "nbconvert_exporter": "python",
   "pygments_lexer": "ipython3",
   "version": "3.6.9"
  }
 },
 "nbformat": 4,
 "nbformat_minor": 2
}
