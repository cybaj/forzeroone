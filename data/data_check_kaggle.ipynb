{
 "cells": [
  {
   "cell_type": "markdown",
   "metadata": {},
   "source": [
    "# TL;DR"
   ]
  },
  {
   "cell_type": "markdown",
   "metadata": {},
   "source": [
    "- 21.06.06 에 `preprocessed_kaggle` 데이터가 문제 없음을 확인함."
   ]
  },
  {
   "cell_type": "code",
   "execution_count": 1,
   "metadata": {},
   "outputs": [],
   "source": [
    "import os\n",
    "import tensorflow as tf\n",
    "import scipy.misc\n",
    "import numpy as np\n",
    "import imageio\n",
    "import datetime\n",
    "from PIL import Image"
   ]
  },
  {
   "cell_type": "code",
   "execution_count": 3,
   "metadata": {},
   "outputs": [],
   "source": [
    "now = datetime.datetime.now() \n",
    "now = now.strftime('%Y-%m-%d-%H-%M-%S')\n",
    "\n",
    "log_path = os.path.join('.', '_log', now)\n",
    "log_path"
   ]
  },
  {
   "cell_type": "code",
   "execution_count": 8,
   "metadata": {},
   "outputs": [],
   "source": [
    "def imread(path, grayscale = False):\n",
    "    try:\n",
    "        if (grayscale):\n",
    "            return imageio.imread(path, as_gray=True).astype(np.float)\n",
    "#            return scipy.misc.imread(path, flatten = True).astype(np.float)\n",
    "        else:\n",
    "            return imageio.imread(path, as_gray=False)\n",
    "#            return scipy.misc.imread(path).astype(np.float)\n",
    "    except(TypeError):\n",
    "        print(path)\n",
    "    \n",
    "def get_image(image_path, input_height, \n",
    "              input_width, resize_height=64, \n",
    "              resize_width=64, crop=True, \n",
    "              grayscale=False):\n",
    "    try:\n",
    "        image = imread(image_path, grayscale)\n",
    "        return transform(image, input_height=108, input_width=108,\n",
    "                   resize_height=64, resize_width=64, crop=False)\n",
    "    except ValueError:\n",
    "        print(\" === Bad image ===\")\n",
    "        print(\" filepath: \", image_path)\n",
    "        \n",
    "def search(dirname, log_path):\n",
    "    fp = open(log_path, 'w')\n",
    "    try:\n",
    "        filenames = os.listdir(dirname)\n",
    "        for filename in filenames:\n",
    "            full_filename = os.path.join(dirname, filename)\n",
    "            if os.path.isdir(full_filename):\n",
    "                print(f'start {full_filename}')\n",
    "                search(full_filename, log_path)\n",
    "                print('finish')\n",
    "            else:\n",
    "                print(full_filename, file=fp)\n",
    "                ext = os.path.splitext(full_filename)[-1]\n",
    "                if ext == '.jpg': \n",
    "                    get_image(full_filename, 64, 64, 64, 64, False, False)\n",
    "    except PermissionError as e:\n",
    "        print(f'permission error occurs {e}')\n",
    "    \n",
    "def transform(image, input_height, input_width,\n",
    "              resize_height=64, resize_width=64, crop=True):\n",
    "    if crop:\n",
    "        cropped_image = center_crop(image, input_height, input_width,resize_height, resize_width)\n",
    "    else:\n",
    "        cropped_image = np.array(Image.fromarray(image).resize([resize_height, resize_width]))\n",
    "        \n",
    "    return np.array(cropped_image)/127.5 - 1."
   ]
  },
  {
   "cell_type": "code",
   "execution_count": 10,
   "metadata": {},
   "outputs": [],
   "source": [
    "target_dir = os.path.join('.', 'preprocessed_kaggle')"
   ]
  },
  {
   "cell_type": "code",
   "execution_count": 11,
   "metadata": {},
   "outputs": [
    {
     "name": "stdout",
     "output_type": "stream",
     "text": [
      "start ./preprocessed_kaggle/train\n",
      "finish\n",
      "start ./preprocessed_kaggle/test\n",
      "finish\n"
     ]
    }
   ],
   "source": [
    "search(target_dir, log_path)"
   ]
  },
  {
   "cell_type": "code",
   "execution_count": null,
   "metadata": {},
   "outputs": [],
   "source": []
  }
 ],
 "metadata": {
  "kernelspec": {
   "display_name": "Python 3",
   "language": "python",
   "name": "python3"
  },
  "language_info": {
   "codemirror_mode": {
    "name": "ipython",
    "version": 3
   },
   "file_extension": ".py",
   "mimetype": "text/x-python",
   "name": "python",
   "nbconvert_exporter": "python",
   "pygments_lexer": "ipython3",
   "version": "3.6.9"
  }
 },
 "nbformat": 4,
 "nbformat_minor": 2
}
