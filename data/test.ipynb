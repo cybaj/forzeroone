{
 "cells": [
  {
   "cell_type": "code",
   "execution_count": 11,
   "metadata": {},
   "outputs": [],
   "source": [
    "from util import get_data_path, get_log_path"
   ]
  },
  {
   "cell_type": "code",
   "execution_count": 4,
   "metadata": {
    "scrolled": true
   },
   "outputs": [
    {
     "name": "stdout",
     "output_type": "stream",
     "text": [
      "[image loader] log_path : ./_log/2021-06-06-03-20-55\n",
      "start ./wikiart/Naive_Art_Primitivism\n",
      "finish\n",
      "start ./wikiart/High_Renaissance\n",
      "finish\n",
      "start ./wikiart/Rococo\n",
      "finish\n",
      "start ./wikiart/Impressionism\n",
      "finish\n",
      "start ./wikiart/Ukiyo_e\n",
      "finish\n",
      "start ./wikiart/Pop_Art\n",
      "finish\n",
      "start ./wikiart/Cubism\n",
      "finish\n",
      "start ./wikiart/Fauvism\n",
      "finish\n",
      "start ./wikiart/Expressionism\n",
      "finish\n",
      "start ./wikiart/Pointillism\n",
      "finish\n",
      "start ./wikiart/Minimalism\n",
      "finish\n",
      "start ./wikiart/Synthetic_Cubism\n",
      "finish\n",
      "start ./wikiart/Post_Impressionism\n",
      "finish\n",
      "start ./wikiart/Northern_Renaissance\n",
      "finish\n",
      "start ./wikiart/Baroque\n",
      "finish\n",
      "start ./wikiart/New_Realism\n",
      "finish\n",
      "start ./wikiart/Analytical_Cubism\n",
      "finish\n",
      "start ./wikiart/Abstract_Expressionism\n",
      "finish\n",
      "start ./wikiart/Realism\n",
      "finish\n",
      "start ./wikiart/Symbolism\n",
      "finish\n",
      "start ./wikiart/Contemporary_Realism\n",
      "finish\n",
      "start ./wikiart/Romanticism\n",
      "finish\n",
      "start ./wikiart/Early_Renaissance\n",
      "finish\n",
      "start ./wikiart/Art_Nouveau_Modern\n",
      "finish\n",
      "start ./wikiart/Color_Field_Painting\n",
      "finish\n",
      "start ./wikiart/Mannerism_Late_Renaissance\n",
      "finish\n",
      "start ./wikiart/Action_painting\n",
      "finish\n"
     ]
    }
   ],
   "source": [
    "wikiart_paths = get_data_path('./wikiart', get_log_path())"
   ]
  },
  {
   "cell_type": "code",
   "execution_count": 5,
   "metadata": {},
   "outputs": [
    {
     "name": "stdout",
     "output_type": "stream",
     "text": [
      "[image loader] log_path : ./_log/2021-06-06-03-21-22\n",
      "start ./preprocessed_kaggle/train\n",
      "finish\n",
      "start ./preprocessed_kaggle/test\n",
      "finish\n"
     ]
    }
   ],
   "source": [
    "kaggle_paths = get_data_path('./preprocessed_kaggle', get_log_path())"
   ]
  },
  {
   "cell_type": "code",
   "execution_count": 6,
   "metadata": {},
   "outputs": [
    {
     "data": {
      "text/plain": [
       "103250"
      ]
     },
     "execution_count": 6,
     "metadata": {},
     "output_type": "execute_result"
    }
   ],
   "source": [
    "len(kaggle_paths)"
   ]
  },
  {
   "cell_type": "code",
   "execution_count": 7,
   "metadata": {},
   "outputs": [
    {
     "data": {
      "text/plain": [
       "81445"
      ]
     },
     "execution_count": 7,
     "metadata": {},
     "output_type": "execute_result"
    }
   ],
   "source": [
    "len(wikiart_paths)"
   ]
  },
  {
   "cell_type": "code",
   "execution_count": null,
   "metadata": {},
   "outputs": [],
   "source": []
  }
 ],
 "metadata": {
  "kernelspec": {
   "display_name": "Python 3",
   "language": "python",
   "name": "python3"
  },
  "language_info": {
   "codemirror_mode": {
    "name": "ipython",
    "version": 3
   },
   "file_extension": ".py",
   "mimetype": "text/x-python",
   "name": "python",
   "nbconvert_exporter": "python",
   "pygments_lexer": "ipython3",
   "version": "3.6.9"
  }
 },
 "nbformat": 4,
 "nbformat_minor": 2
}
